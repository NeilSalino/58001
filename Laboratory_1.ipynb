{
  "nbformat": 4,
  "nbformat_minor": 0,
  "metadata": {
    "colab": {
      "provenance": [],
      "authorship_tag": "ABX9TyOM9r8RYQwgHvUiXSGT6NzX",
      "include_colab_link": true
    },
    "kernelspec": {
      "name": "python3",
      "display_name": "Python 3"
    },
    "language_info": {
      "name": "python"
    }
  },
  "cells": [
    {
      "cell_type": "markdown",
      "metadata": {
        "id": "view-in-github",
        "colab_type": "text"
      },
      "source": [
        "<a href=\"https://colab.research.google.com/github/NeilSalino/OOP-58001/blob/main/Laboratory_1.ipynb\" target=\"_parent\"><img src=\"https://colab.research.google.com/assets/colab-badge.svg\" alt=\"Open In Colab\"/></a>"
      ]
    },
    {
      "cell_type": "code",
      "execution_count": 29,
      "metadata": {
        "colab": {
          "base_uri": "https://localhost:8080/"
        },
        "id": "lAHzaVoCLQg-",
        "outputId": "5b159f66-89f9-4451-ab46-bbe75462a946"
      },
      "outputs": [
        {
          "output_type": "stream",
          "name": "stdout",
          "text": [
            "sum = 210\n",
            "average = 210\n"
          ]
        }
      ],
      "source": [
        "n = 20\n",
        "total_numbers = n\n",
        "sum = 0\n",
        "average = 0\n",
        "while n>= 0:\n",
        "  sum += n\n",
        "  n-= 1\n",
        "\n",
        "print (\"sum =\",sum)\n",
        "average = sum or total_numbers\n",
        "print (\"average =\",average)\n"
      ]
    },
    {
      "cell_type": "markdown",
      "source": [
        "https://lucid.app/lucidchart/47270d9b-0f84-47e6-a761-207190ea59ae/edit?viewport_loc=-11%2C964%2C1480%2C692%2C0_0&invitationId=inv_b678f431-cd21-49d9-84ca-51fbd6878812"
      ],
      "metadata": {
        "id": "FT3Ufwv3Wa1w"
      }
    }
  ]
}