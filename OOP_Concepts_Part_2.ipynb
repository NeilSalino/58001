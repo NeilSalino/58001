{
  "nbformat": 4,
  "nbformat_minor": 0,
  "metadata": {
    "colab": {
      "provenance": [],
      "authorship_tag": "ABX9TyPZuRj0/vc3Js+m7xeHCicl",
      "include_colab_link": true
    },
    "kernelspec": {
      "name": "python3",
      "display_name": "Python 3"
    },
    "language_info": {
      "name": "python"
    }
  },
  "cells": [
    {
      "cell_type": "markdown",
      "metadata": {
        "id": "view-in-github",
        "colab_type": "text"
      },
      "source": [
        "<a href=\"https://colab.research.google.com/github/NeilSalino/OOP-58001/blob/main/OOP_Concepts_Part_2.ipynb\" target=\"_parent\"><img src=\"https://colab.research.google.com/assets/colab-badge.svg\" alt=\"Open In Colab\"/></a>"
      ]
    },
    {
      "cell_type": "code",
      "source": [
        "class Birds:\n",
        "  def __init__(self,bird_name):\n",
        "    self.bird_name = bird_name\n",
        "  def flying_birds(self):\n",
        "    print(f\"{self.bird_name} flies above the clouds\")\n",
        "  def non_flying_birds(self):\n",
        "    print(f\"{self.bird_name} is the national bird of the Philippines\")\n",
        "\n",
        "vulture = Birds(\"Griffon Vulture\")\n",
        "crane = Birds(\"Common Crane\")\n",
        "emu = Birds(\"Emu\")\n",
        "\n",
        "vulture.flying_birds()\n",
        "crane.flying_birds()\n",
        "emu.non_flying_birds()"
      ],
      "metadata": {
        "colab": {
          "base_uri": "https://localhost:8080/"
        },
        "id": "BAAscfZsplQs",
        "outputId": "7f9304fa-8481-4b65-c4d0-718860da2a02"
      },
      "execution_count": 27,
      "outputs": [
        {
          "output_type": "stream",
          "name": "stdout",
          "text": [
            "Griffon Vulture flies above the clouds\n",
            "Common Crane flies above the clouds\n",
            "Emu is the national bird of the Philippines\n"
          ]
        }
      ]
    },
    {
      "cell_type": "code",
      "source": [
        "#Encapsulation\n",
        "class foo:\n",
        "  def __init__(self,a,b):\n",
        "    self.__a=a\n",
        "    self.__b=b\n",
        "  def add(self):\n",
        "    return self.__a+self.__b\n",
        "foo_object=foo(3,4)\n",
        "foo_object.add()\n",
        "foo_object.a = 5\n",
        "foo_object.add()"
      ],
      "metadata": {
        "colab": {
          "base_uri": "https://localhost:8080/"
        },
        "id": "x5-tlcG1plzN",
        "outputId": "31c84ce3-0aec-4e42-e4a2-1b6c1c054a84"
      },
      "execution_count": 26,
      "outputs": [
        {
          "output_type": "execute_result",
          "data": {
            "text/plain": [
              "7"
            ]
          },
          "metadata": {},
          "execution_count": 26
        }
      ]
    },
    {
      "cell_type": "code",
      "source": [
        "class Counter:\n",
        "  def __init__(self):\n",
        "    self.current=0\n",
        "  def increment(self):\n",
        "    self.current +=1\n",
        "  def value(self):\n",
        "    return self.current\n",
        "  def reset(self):\n",
        "    self.current=0\n",
        "counter=Counter()\n",
        "counter.increment\n",
        "counter.value()\n",
        "counter.reset()\n",
        "counter.value()"
      ],
      "metadata": {
        "colab": {
          "base_uri": "https://localhost:8080/"
        },
        "id": "fjPxwJ8upqH8",
        "outputId": "03d6009a-aa5c-4e64-9d78-74f13942023c"
      },
      "execution_count": 25,
      "outputs": [
        {
          "output_type": "execute_result",
          "data": {
            "text/plain": [
              "0"
            ]
          },
          "metadata": {},
          "execution_count": 25
        }
      ]
    },
    {
      "cell_type": "code",
      "execution_count": 28,
      "metadata": {
        "colab": {
          "base_uri": "https://localhost:8080/"
        },
        "id": "2KauZ3cgapWd",
        "outputId": "1468f50c-e43a-43e4-a99f-c1852a657e1c"
      },
      "outputs": [
        {
          "output_type": "stream",
          "name": "stdout",
          "text": [
            "My name is Neil\n",
            "My birthdate December 1,2004\n",
            "My name is Philipp\n",
            "My birthdate December 1, 2004\n"
          ]
        }
      ],
      "source": [
        "#inheritance\n",
        "class Person: \n",
        "  def __init__(self,name,birthdate):\n",
        "    self.name = name\n",
        "    self.birthdate = birthdate\n",
        "  def display(self):\n",
        "    print(f\"My name is\",self.name)\n",
        "    print(f\"My birthdate\",self.birthdate)\n",
        "class Millionaire(Person):\n",
        "  pass\n",
        "\n",
        "student = Person(\"Neil\",\"December 1,2004\")\n",
        "student.display()\n",
        "millionaire = Millionaire(\"Philipp\",\"December 1, 2004\")\n",
        "millionaire.display()"
      ]
    },
    {
      "cell_type": "code",
      "source": [
        "class Shape:\n",
        "  def __init__(self, sides_of_shape, shape):\n",
        "    self.__sides_of_shape = sides_of_shape\n",
        "    self.__shape = shape\n",
        "  def display(self):\n",
        "     print(f\"The sides of the {self.__shape} is\", self.__sides_of_shape)\n",
        "class Parallel(Shape):\n",
        "  pass\n",
        "class Triangle(Shape):\n",
        "  pass\n",
        "class Heptagon(Shape):\n",
        "  pass\n",
        "class Nonagon(Shape):\n",
        "  pass\n",
        "class Pentagon(Shape):\n",
        "  pass\n",
        "Parallel = Parallel(4, 'Parallel')\n",
        "Parallel.name = 'rb26'\n",
        "Parallel.display()\n",
        "Triangle = Triangle(3, 'Triangle')\n",
        "Triangle.display()\n",
        "Heptagon = Heptagon(7, 'Heptagon')\n",
        "Heptagon.display()\n",
        "Nonagon = Nonagon(9, 'Nonagon')\n",
        "Nonagon.display()\n",
        "Pentagon = Pentagon(5, 'Pentagon')\n",
        "Pentagon.display()"
      ],
      "metadata": {
        "colab": {
          "base_uri": "https://localhost:8080/"
        },
        "id": "i84iuu-Bhk2h",
        "outputId": "b7001d93-ed0d-4b5b-ff4a-ea5c5a3148f2"
      },
      "execution_count": 24,
      "outputs": [
        {
          "output_type": "stream",
          "name": "stdout",
          "text": [
            "The sides of the Parallel is 4\n",
            "The sides of the Triangle is 3\n",
            "The sides of the Heptagon is 7\n",
            "The sides of the Nonagon is 9\n",
            "The sides of the Pentagon is 5\n"
          ]
        }
      ]
    }
  ]
}
