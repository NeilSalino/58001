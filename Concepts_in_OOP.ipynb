{
  "nbformat": 4,
  "nbformat_minor": 0,
  "metadata": {
    "colab": {
      "provenance": [],
      "authorship_tag": "ABX9TyOcfNonbaTLn7gaCLWUdHqG",
      "include_colab_link": true
    },
    "kernelspec": {
      "name": "python3",
      "display_name": "Python 3"
    },
    "language_info": {
      "name": "python"
    }
  },
  "cells": [
    {
      "cell_type": "markdown",
      "metadata": {
        "id": "view-in-github",
        "colab_type": "text"
      },
      "source": [
        "<a href=\"https://colab.research.google.com/github/NeilSalino/OOP-58001/blob/main/Concepts_in_OOP.ipynb\" target=\"_parent\"><img src=\"https://colab.research.google.com/assets/colab-badge.svg\" alt=\"Open In Colab\"/></a>"
      ]
    },
    {
      "cell_type": "code",
      "execution_count": 3,
      "metadata": {
        "id": "37nkP09aPZI1"
      },
      "outputs": [],
      "source": [
        "class Car:\n",
        "  pass\n"
      ]
    },
    {
      "cell_type": "code",
      "source": [
        "class MyNumber:\n",
        "  x = 5\n",
        "\n",
        "num1 = MyNumber()\n",
        "print(num1.x)"
      ],
      "metadata": {
        "colab": {
          "base_uri": "https://localhost:8080/"
        },
        "id": "LYDP6f4-P_Aj",
        "outputId": "43fc4ae3-0ba0-4c16-861b-9e5885351d68"
      },
      "execution_count": 6,
      "outputs": [
        {
          "output_type": "stream",
          "name": "stdout",
          "text": [
            "5\n"
          ]
        }
      ]
    },
    {
      "cell_type": "code",
      "source": [
        "class Person:\n",
        "  def __init__(self,name,age):\n",
        "    self.name = name\n",
        "    self.age = age\n",
        "  def myFunction(self):\n",
        "    print(\"Hello,my name is\", self.name)\n",
        "person = Person (\"Ana\",36)\n",
        "\n",
        "person.myFunction()\n"
      ],
      "metadata": {
        "colab": {
          "base_uri": "https://localhost:8080/"
        },
        "id": "Ijs7L367QYCv",
        "outputId": "c9f22bf2-13a9-4a6d-d6ac-614dc7766c4f"
      },
      "execution_count": 12,
      "outputs": [
        {
          "output_type": "stream",
          "name": "stdout",
          "text": [
            "Hello,my name is Ana\n"
          ]
        }
      ]
    },
    {
      "cell_type": "code",
      "source": [
        "person.name = \"Marco\"\n",
        "print(person.name)\n",
        "person.myFunction()"
      ],
      "metadata": {
        "colab": {
          "base_uri": "https://localhost:8080/"
        },
        "id": "WwCFPn_PSAFK",
        "outputId": "9948f312-faf5-4d85-8964-f41c084d4161"
      },
      "execution_count": 13,
      "outputs": [
        {
          "output_type": "stream",
          "name": "stdout",
          "text": [
            "Marco\n",
            "Hello,my name is Marco\n"
          ]
        }
      ]
    },
    {
      "cell_type": "code",
      "source": [
        "del.person.age\n",
        "person.myFunction()\n",
        "print(person.name)\n"
      ],
      "metadata": {
        "colab": {
          "base_uri": "https://localhost:8080/",
          "height": 130
        },
        "id": "Hzwp1VvRSI5b",
        "outputId": "f83f0cfb-540a-4cce-eebc-fceecb242aba"
      },
      "execution_count": 15,
      "outputs": [
        {
          "output_type": "error",
          "ename": "SyntaxError",
          "evalue": "ignored",
          "traceback": [
            "\u001b[0;36m  File \u001b[0;32m\"<ipython-input-15-050b4c609a55>\"\u001b[0;36m, line \u001b[0;32m1\u001b[0m\n\u001b[0;31m    del.person.name\u001b[0m\n\u001b[0m       ^\u001b[0m\n\u001b[0;31mSyntaxError\u001b[0m\u001b[0;31m:\u001b[0m invalid syntax\n"
          ]
        }
      ]
    },
    {
      "cell_type": "code",
      "source": [
        "class Shapes:\n",
        "  def __init__(self,side):\n",
        "    self.side = side\n",
        "\n",
        "  def area(self):\n",
        "    return self.side*self.side\n",
        "\n",
        "  def display(self):\n",
        "    print(\"the area of the square is\",self.area())\n",
        "\n",
        "square = Shapes(4)\n",
        "square.display()"
      ],
      "metadata": {
        "colab": {
          "base_uri": "https://localhost:8080/"
        },
        "id": "sS23ThejTQej",
        "outputId": "94247fb7-e750-4eaf-be7f-4d91699e64bf"
      },
      "execution_count": 16,
      "outputs": [
        {
          "output_type": "stream",
          "name": "stdout",
          "text": [
            "the area of the square is  16\n"
          ]
        }
      ]
    },
    {
      "cell_type": "code",
      "source": [
        "class Student:\n",
        "  def __init__(self, fullname, student_number, school):\n",
        "    self.fullname = fullname\n",
        "    self.student_number = student_number\n",
        "    self.school = school\n",
        "  \n",
        "  def display_info(self):\n",
        "    print(f\"Fullname: {self.fullname}\\nStudent Number: {self.student_number}\\nSchool: {self.school}\")\n",
        "\n",
        "student = Student(\"Neil Philipp C. Salino\", \"202212690\", \"Adamson University\")\n",
        "student.display_info()"
      ],
      "metadata": {
        "colab": {
          "base_uri": "https://localhost:8080/"
        },
        "id": "cm2OYxxHVNlo",
        "outputId": "14846004-c940-42c9-f930-ba8fb024892c"
      },
      "execution_count": 17,
      "outputs": [
        {
          "output_type": "stream",
          "name": "stdout",
          "text": [
            "Fullname: Neil Philipp C. Salino\n",
            "Student Number: 202212690\n",
            "School: Adamson University\n"
          ]
        }
      ]
    }
  ]
}