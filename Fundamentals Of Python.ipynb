{
  "nbformat": 4,
  "nbformat_minor": 0,
  "metadata": {
    "colab": {
      "provenance": [],
      "authorship_tag": "ABX9TyMouBFomCDIrl51MZ+35y81",
      "include_colab_link": true
    },
    "kernelspec": {
      "name": "python3",
      "display_name": "Python 3"
    },
    "language_info": {
      "name": "python"
    }
  },
  "cells": [
    {
      "cell_type": "markdown",
      "metadata": {
        "id": "view-in-github",
        "colab_type": "text"
      },
      "source": [
        "<a href=\"https://colab.research.google.com/github/NeilSalino/OOP-58001/blob/main/Fundamentals%20Of%20Python.ipynb\" target=\"_parent\"><img src=\"https://colab.research.google.com/assets/colab-badge.svg\" alt=\"Open In Colab\"/></a>"
      ]
    },
    {
      "cell_type": "markdown",
      "source": [
        "Identation"
      ],
      "metadata": {
        "id": "fIfDNX56S9O1"
      }
    },
    {
      "cell_type": "code",
      "execution_count": 2,
      "metadata": {
        "id": "NxBbLSC7RVlV",
        "colab": {
          "base_uri": "https://localhost:8080/"
        },
        "outputId": "35057f07-8c30-4aa1-85d7-c357a273d172"
      },
      "outputs": [
        {
          "output_type": "stream",
          "name": "stdout",
          "text": [
            "Five is greater thant two!\n"
          ]
        }
      ],
      "source": [
        "if 5>2:\n",
        "  print(\"Five is greater thant two!\")"
      ]
    },
    {
      "cell_type": "markdown",
      "source": [
        "Python Comment"
      ],
      "metadata": {
        "id": "riGRP3lgTAsc"
      }
    },
    {
      "cell_type": "code",
      "source": [
        "#This is a comment\n",
        "print(\"Hello world!\")"
      ],
      "metadata": {
        "id": "fF-5ZQiIRbXt",
        "colab": {
          "base_uri": "https://localhost:8080/"
        },
        "outputId": "9f02bf4c-5b05-4422-a999-def897a961eb"
      },
      "execution_count": 1,
      "outputs": [
        {
          "output_type": "stream",
          "name": "stdout",
          "text": [
            "Hello world!\n"
          ]
        }
      ]
    },
    {
      "cell_type": "markdown",
      "source": [
        "Python Variable"
      ],
      "metadata": {
        "id": "ADGITJS4TTG4"
      }
    },
    {
      "cell_type": "code",
      "source": [
        "#Single variable with single value\n",
        "x = 1\n",
        "\n",
        "#Single variable with multiple values\n",
        "array = [1,2,3]\n",
        "print (array)\n",
        "\n",
        "#Multiple variables with single value\n",
        "a= b = c= \"shuk\"\n",
        "print (a)\n",
        "print (b)\n",
        "print (c)"
      ],
      "metadata": {
        "colab": {
          "base_uri": "https://localhost:8080/"
        },
        "id": "rWN3oYapTVnv",
        "outputId": "357c0728-a6f5-4466-9f2e-c33630d12158"
      },
      "execution_count": 5,
      "outputs": [
        {
          "output_type": "stream",
          "name": "stdout",
          "text": [
            "[1, 2, 3]\n",
            "shuk\n",
            "shuk\n",
            "shuk\n"
          ]
        }
      ]
    },
    {
      "cell_type": "markdown",
      "source": [
        "Casting"
      ],
      "metadata": {
        "id": "DgiNRTJoU9OA"
      }
    },
    {
      "cell_type": "code",
      "source": [
        "n = int (4)\n",
        "print (n)"
      ],
      "metadata": {
        "colab": {
          "base_uri": "https://localhost:8080/"
        },
        "id": "4TPpErCmU-AA",
        "outputId": "a96a09da-caea-41f3-a64f-3b07a40e9134"
      },
      "execution_count": 6,
      "outputs": [
        {
          "output_type": "stream",
          "name": "stdout",
          "text": [
            "4\n"
          ]
        }
      ]
    },
    {
      "cell_type": "markdown",
      "source": [
        "Type of function"
      ],
      "metadata": {
        "id": "BAXFvIM2VHPR"
      }
    },
    {
      "cell_type": "code",
      "source": [
        "c = \"sally\"\n",
        "d = 5.6\n",
        "print (type (c))\n",
        "print (type (d))"
      ],
      "metadata": {
        "colab": {
          "base_uri": "https://localhost:8080/"
        },
        "id": "Ct2jLoppVINA",
        "outputId": "ddd22f7e-1398-4840-cf9e-c64c822df846"
      },
      "execution_count": 9,
      "outputs": [
        {
          "output_type": "stream",
          "name": "stdout",
          "text": [
            "<class 'str'>\n",
            "<class 'float'>\n"
          ]
        }
      ]
    }
  ]
}