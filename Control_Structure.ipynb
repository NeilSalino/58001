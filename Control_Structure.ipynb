{
  "nbformat": 4,
  "nbformat_minor": 0,
  "metadata": {
    "colab": {
      "provenance": [],
      "authorship_tag": "ABX9TyNg4ItOtrWVMGp6xh1e2U6f",
      "include_colab_link": true
    },
    "kernelspec": {
      "name": "python3",
      "display_name": "Python 3"
    },
    "language_info": {
      "name": "python"
    }
  },
  "cells": [
    {
      "cell_type": "markdown",
      "metadata": {
        "id": "view-in-github",
        "colab_type": "text"
      },
      "source": [
        "<a href=\"https://colab.research.google.com/github/NeilSalino/OOP-58001/blob/main/Control_Structure.ipynb\" target=\"_parent\"><img src=\"https://colab.research.google.com/assets/colab-badge.svg\" alt=\"Open In Colab\"/></a>"
      ]
    },
    {
      "cell_type": "markdown",
      "source": [
        "Conditional Statement"
      ],
      "metadata": {
        "id": "lZVqcgmrD2n8"
      }
    },
    {
      "cell_type": "markdown",
      "source": [
        "If statement"
      ],
      "metadata": {
        "id": "R9e9snMnGf9r"
      }
    },
    {
      "cell_type": "code",
      "execution_count": 1,
      "metadata": {
        "colab": {
          "base_uri": "https://localhost:8080/"
        },
        "id": "TKEdQCkeDtK4",
        "outputId": "e7f56188-908c-4a82-abae-e75d58527d58"
      },
      "outputs": [
        {
          "output_type": "stream",
          "name": "stdout",
          "text": [
            "b is greater than a\n"
          ]
        }
      ],
      "source": [
        "a = 12\n",
        "b = 100\n",
        "if b > a:\n",
        "  print(\"b is greater than a\")"
      ]
    },
    {
      "cell_type": "code",
      "source": [
        "x = input()\n",
        "y = input()\n",
        "\n",
        "if x > y:\n",
        "  print(x + \" is greater than \" + y)"
      ],
      "metadata": {
        "colab": {
          "base_uri": "https://localhost:8080/"
        },
        "id": "qvxNlhIsGskT",
        "outputId": "cef7b7a4-a01f-4637-9f8d-27ec6113ca79"
      },
      "execution_count": 17,
      "outputs": [
        {
          "output_type": "stream",
          "name": "stdout",
          "text": [
            "3\n",
            "2\n",
            "3 is greater than 2\n"
          ]
        }
      ]
    },
    {
      "cell_type": "markdown",
      "source": [
        "Elif Statements"
      ],
      "metadata": {
        "id": "-4RKJ9PlEj_k"
      }
    },
    {
      "cell_type": "code",
      "source": [
        "a = 12 \n",
        "b = 12\n",
        "if b > a:\n",
        "  print(\" b is greater than a\")\n",
        "elif a==b:\n",
        "    print(\"a and b are equal\")"
      ],
      "metadata": {
        "colab": {
          "base_uri": "https://localhost:8080/"
        },
        "id": "JsWDsx75EldE",
        "outputId": "f073bc42-c2e9-4cf1-e3d3-36ece6115be3"
      },
      "execution_count": 6,
      "outputs": [
        {
          "output_type": "stream",
          "name": "stdout",
          "text": [
            "a and b are equal\n"
          ]
        }
      ]
    },
    {
      "cell_type": "code",
      "source": [
        "a = 100 \n",
        "b = 50\n",
        "if a > b:\n",
        "  print (\" a is greater than b \")\n",
        "\n",
        "elif b > a:\n",
        "  print(\" b is greater than a\")"
      ],
      "metadata": {
        "colab": {
          "base_uri": "https://localhost:8080/"
        },
        "id": "sQTcoJkzHj58",
        "outputId": "0b84f4b9-0595-42f4-94ef-524c03a627a5"
      },
      "execution_count": 18,
      "outputs": [
        {
          "output_type": "stream",
          "name": "stdout",
          "text": [
            " a is greater than b \n"
          ]
        }
      ]
    },
    {
      "cell_type": "markdown",
      "source": [
        "Else Statements"
      ],
      "metadata": {
        "id": "knKBaUloFG1b"
      }
    },
    {
      "cell_type": "code",
      "source": [
        "a = 100\n",
        "b = 33\n",
        "if b > a:\n",
        "  print(\"b is greater than a\")\n",
        "elif a ==b:\n",
        "  print(\"a and b are equal\")\n",
        "else:\n",
        "  print(\"a is greater than b\")"
      ],
      "metadata": {
        "colab": {
          "base_uri": "https://localhost:8080/"
        },
        "id": "4UzZ_jglFQDC",
        "outputId": "9e930bee-d423-440f-ab84-f03fe83e6a6b"
      },
      "execution_count": 21,
      "outputs": [
        {
          "output_type": "stream",
          "name": "stdout",
          "text": [
            "b is greater than a\n"
          ]
        }
      ]
    },
    {
      "cell_type": "markdown",
      "source": [
        "Nested If"
      ],
      "metadata": {
        "id": "yD5Zoz1iIl0b"
      }
    },
    {
      "cell_type": "code",
      "source": [
        "x = 12\n",
        "\n",
        "if x > 10:\n",
        "  print(\"Above ten ,\")\n",
        "  if x > 20:\n",
        "    print(\" and also above 20!\")\n",
        "  else:\n",
        "    print(\" but not above 20.\")\n"
      ],
      "metadata": {
        "colab": {
          "base_uri": "https://localhost:8080/"
        },
        "id": "0QrpcSsCImxL",
        "outputId": "9fb85448-5678-4ffd-e296-1d95a8533bef"
      },
      "execution_count": 34,
      "outputs": [
        {
          "output_type": "stream",
          "name": "stdout",
          "text": [
            "Above ten ,\n",
            " but not above 20.\n"
          ]
        }
      ]
    },
    {
      "cell_type": "code",
      "source": [
        "x = int(input ())\n",
        "\n",
        "if x > 10:\n",
        "  print(\"Above 10 \")\n",
        "  if x > 20:\n",
        "    print(\"and also above 20!\")\n",
        "    if x>30:\n",
        "      print (\"and also above 30\")\n",
        "      if x>40:\n",
        "        print(\"and also above 40\")\n",
        "        if x<50:\n",
        "          print(\"below 50\")\n",
        "        else:\n",
        "          print (\"above 50\")\n",
        "      else:\n",
        "        print(\"below 40\")\n",
        "  else:\n",
        "      print(\"below 30\")\n",
        "else:\n",
        "    print(\" below 20.\")\n"
      ],
      "metadata": {
        "colab": {
          "base_uri": "https://localhost:8080/"
        },
        "id": "n_B0oqiyJpBU",
        "outputId": "a0cb7f6e-04cc-4bee-e674-51404af18ad7"
      },
      "execution_count": 46,
      "outputs": [
        {
          "output_type": "stream",
          "name": "stdout",
          "text": [
            "33\n",
            "Above 10 \n",
            "and also above 20!\n",
            "and also above 30\n",
            "below 40\n"
          ]
        }
      ]
    },
    {
      "cell_type": "markdown",
      "source": [
        "Example 1"
      ],
      "metadata": {
        "id": "eJqf62UGMhmM"
      }
    },
    {
      "cell_type": "code",
      "source": [
        "x = int(input())\n",
        " \n",
        "if x >= 18:\n",
        "   print(\"You are qualified to vote\")\n",
        "else:\n",
        "     print(\"You are not qualified to vote\")"
      ],
      "metadata": {
        "colab": {
          "base_uri": "https://localhost:8080/"
        },
        "id": "pCL0jBH2L52l",
        "outputId": "8deb4a4f-89bb-417e-ae52-79a9ebaed770"
      },
      "execution_count": 58,
      "outputs": [
        {
          "output_type": "stream",
          "name": "stdout",
          "text": [
            "18\n",
            "You are qualified to vote\n"
          ]
        }
      ]
    },
    {
      "cell_type": "markdown",
      "source": [
        "Example 2"
      ],
      "metadata": {
        "id": "Vs1Zpr2LOY9V"
      }
    },
    {
      "cell_type": "code",
      "source": [
        "x = int(input())\n",
        "\n",
        "if x > 0:\n",
        "  print(\"x is a positive number\")\n",
        "elif x < 0:\n",
        "    print(\"x is a negative number\")\n",
        "else: \n",
        "    print (\"x is equal to zero\")"
      ],
      "metadata": {
        "colab": {
          "base_uri": "https://localhost:8080/"
        },
        "id": "lRuGE90dOb9E",
        "outputId": "1c88f998-8808-4631-83ea-c8a3dd4ad7af"
      },
      "execution_count": 64,
      "outputs": [
        {
          "output_type": "stream",
          "name": "stdout",
          "text": [
            "-1\n",
            "x is a negative number\n"
          ]
        }
      ]
    },
    {
      "cell_type": "markdown",
      "source": [
        "Example 3"
      ],
      "metadata": {
        "id": "s-jPNnNuO1Wt"
      }
    },
    {
      "cell_type": "code",
      "source": [
        "x = int(input())\n",
        "\n",
        "if x >= 70:\n",
        "  print(\"You are passed\")\n",
        "elif x <= 70 and x >= 65:\n",
        "  print(\"Remedial\")\n",
        "elif x < 0:\n",
        "  print(\"DO NOT PUT NEGATIVE NUMBERS!\")\n",
        "else:\n",
        "  print(\"You are failed\")"
      ],
      "metadata": {
        "colab": {
          "base_uri": "https://localhost:8080/"
        },
        "id": "JMRfE8CoO2r9",
        "outputId": "0ec21074-e112-4884-d3b5-c8b0aa84290c"
      },
      "execution_count": 59,
      "outputs": [
        {
          "output_type": "stream",
          "name": "stdout",
          "text": [
            "64\n",
            "You are failed\n"
          ]
        }
      ]
    }
  ]
}