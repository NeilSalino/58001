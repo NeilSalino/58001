{
  "nbformat": 4,
  "nbformat_minor": 0,
  "metadata": {
    "colab": {
      "provenance": [],
      "authorship_tag": "ABX9TyMQ6jH9c4/D/qXyPRC9iE9I",
      "include_colab_link": true
    },
    "kernelspec": {
      "name": "python3",
      "display_name": "Python 3"
    },
    "language_info": {
      "name": "python"
    }
  },
  "cells": [
    {
      "cell_type": "markdown",
      "metadata": {
        "id": "view-in-github",
        "colab_type": "text"
      },
      "source": [
        "<a href=\"https://colab.research.google.com/github/NeilSalino/OOP-58001/blob/main/MidtermQuiz.ipynb\" target=\"_parent\"><img src=\"https://colab.research.google.com/assets/colab-badge.svg\" alt=\"Open In Colab\"/></a>"
      ]
    },
    {
      "cell_type": "code",
      "execution_count": 9,
      "metadata": {
        "colab": {
          "base_uri": "https://localhost:8080/"
        },
        "id": "715cKLQqntsd",
        "outputId": "00a2bfd8-0106-422b-89a5-f70626fc9116"
      },
      "outputs": [
        {
          "output_type": "stream",
          "name": "stdout",
          "text": [
            "Distance: 21\n",
            "21.0 meters = 2100.0 centimeters\n",
            "21.0 meters = 0.021 kilometers\n",
            "21.0 meters = 826.7721 inches\n"
          ]
        }
      ],
      "source": [
        "class DistanceConversion:\n",
        "    def __init__(self, distance):\n",
        "        self.__distance = distance\n",
        "\n",
        "    def __meter_to_cm(self):\n",
        "        return self.__distance * 100\n",
        "\n",
        "    def __meter_to_km(self):\n",
        "        return self.__distance / 1000\n",
        "\n",
        "    def __meter_to_inch(self):\n",
        "        return self.__distance * 39.3701\n",
        "\n",
        "    def convert(self):\n",
        "        return (self.__meter_to_cm(), self.__meter_to_km(), self.__meter_to_inch())\n",
        "\n",
        "\n",
        "distance = float(input(\"Distance: \"))\n",
        "converter = DistanceConversion(distance)\n",
        "centimeter, kilometer, inch = converter.convert()\n",
        "print(f\"{distance} meters = {centimeter} centimeters\")\n",
        "print(f\"{distance} meters = {kilometer} kilometers\")\n",
        "print(f\"{distance} meters = {inch} inches\")"
      ]
    }
  ]
}