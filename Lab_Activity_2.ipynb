{
  "nbformat": 4,
  "nbformat_minor": 0,
  "metadata": {
    "colab": {
      "provenance": [],
      "authorship_tag": "ABX9TyO9zZd7Qon7Sw6jSm/HZVIQ",
      "include_colab_link": true
    },
    "kernelspec": {
      "name": "python3",
      "display_name": "Python 3"
    },
    "language_info": {
      "name": "python"
    }
  },
  "cells": [
    {
      "cell_type": "markdown",
      "metadata": {
        "id": "view-in-github",
        "colab_type": "text"
      },
      "source": [
        "<a href=\"https://colab.research.google.com/github/NeilSalino/OOP-58001/blob/main/Lab_Activity_2.ipynb\" target=\"_parent\"><img src=\"https://colab.research.google.com/assets/colab-badge.svg\" alt=\"Open In Colab\"/></a>"
      ]
    },
    {
      "cell_type": "code",
      "execution_count": 9,
      "metadata": {
        "colab": {
          "base_uri": "https://localhost:8080/"
        },
        "id": "2e0y0jZYLf2Z",
        "outputId": "9a7fc1cf-ebc2-47f2-8208-0e3ee7e2122d"
      },
      "outputs": [
        {
          "output_type": "stream",
          "name": "stdout",
          "text": [
            "Enter the radius of the circle: 123123\n",
            "Radius of the circle: 123123.0\n",
            "Perimeter of the circle: 773603.9711399999\n",
            "Area of the circle: 47624220869.335106\n"
          ]
        }
      ],
      "source": [
        "class Circle:\n",
        "    def __init__(self, radius):\n",
        "        self.radius = radius\n",
        "        self.pi = 3.14159\n",
        "\n",
        "    def Perimeter(self):\n",
        "        return 2 * self.pi * self.radius\n",
        "\n",
        "    def Area(self):\n",
        "        return self.pi * (self.radius ** 2)\n",
        "\n",
        "    def Display(self):\n",
        "        print(f\"Radius of the circle: {self.radius}\")\n",
        "        print(f\"Perimeter of the circle: {self.Perimeter()}\")\n",
        "        print(f\"Area of the circle: {self.Area()}\")\n",
        "\n",
        "radius = float(input(\"Enter the radius of the circle: \"))\n",
        "circle = Circle(radius)\n",
        "circle.Display()"
      ]
    }
  ]
}