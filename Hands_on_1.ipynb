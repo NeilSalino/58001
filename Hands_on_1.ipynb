{
  "nbformat": 4,
  "nbformat_minor": 0,
  "metadata": {
    "colab": {
      "provenance": [],
      "authorship_tag": "ABX9TyM8fR0TvPiahXgJmqHulRf6",
      "include_colab_link": true
    },
    "kernelspec": {
      "name": "python3",
      "display_name": "Python 3"
    },
    "language_info": {
      "name": "python"
    }
  },
  "cells": [
    {
      "cell_type": "markdown",
      "metadata": {
        "id": "view-in-github",
        "colab_type": "text"
      },
      "source": [
        "<a href=\"https://colab.research.google.com/github/NeilSalino/OOP-58001/blob/main/Hands_on_1.ipynb\" target=\"_parent\"><img src=\"https://colab.research.google.com/assets/colab-badge.svg\" alt=\"Open In Colab\"/></a>"
      ]
    },
    {
      "cell_type": "code",
      "execution_count": 47,
      "metadata": {
        "colab": {
          "base_uri": "https://localhost:8080/"
        },
        "id": "6mjEhqSLVvxa",
        "outputId": "e7924006-9a9e-420b-9efa-a7dec64d307c"
      },
      "outputs": [
        {
          "output_type": "stream",
          "name": "stdout",
          "text": [
            "Name: Student1 Average Grade: 78\n",
            "Name: Student2 Average Grade: 91\n",
            "Name: Student3 Average Grade: 94\n"
          ]
        }
      ],
      "source": [
        "class Person:\n",
        "   def __init__(self, name, pre, mid, fin):\n",
        "        self.name = name\n",
        "        self.__pre = pre\n",
        "        self.__mid = mid\n",
        "        self.__fin = fin\n",
        "\n",
        "   def Grade(self):\n",
        "        average=(self.__pre+self.__mid+self.__fin)/3\n",
        "        return average\n",
        "\n",
        "std1=Person(\"Student1\",60,80,95)\n",
        "std2=Person(\"Student2\",89,90,93)\n",
        "std3=Person(\"Student3\",93,91,98)\n",
        "\n",
        "print(\"Name:\",std1.name,\"Average Grade:\",round(std1.Grade()))\n",
        "print(\"Name:\",std2.name,\"Average Grade:\",round(std2.Grade()))\n",
        "print(\"Name:\",std3.name,\"Average Grade:\",round(std3.Grade()))"
      ]
    }
  ]
}