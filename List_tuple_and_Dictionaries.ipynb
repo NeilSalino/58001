{
  "nbformat": 4,
  "nbformat_minor": 0,
  "metadata": {
    "colab": {
      "provenance": [],
      "authorship_tag": "ABX9TyOb8WjiePpcrXux0GzbWI6g",
      "include_colab_link": true
    },
    "kernelspec": {
      "name": "python3",
      "display_name": "Python 3"
    },
    "language_info": {
      "name": "python"
    }
  },
  "cells": [
    {
      "cell_type": "markdown",
      "metadata": {
        "id": "view-in-github",
        "colab_type": "text"
      },
      "source": [
        "<a href=\"https://colab.research.google.com/github/NeilSalino/OOP-58001/blob/main/List_tuple_and_Dictionaries.ipynb\" target=\"_parent\"><img src=\"https://colab.research.google.com/assets/colab-badge.svg\" alt=\"Open In Colab\"/></a>"
      ]
    },
    {
      "cell_type": "markdown",
      "source": [
        "Functions"
      ],
      "metadata": {
        "id": "W_A3Bb5vLSmG"
      }
    },
    {
      "cell_type": "code",
      "execution_count": 1,
      "metadata": {
        "id": "Iasvyg7XJGUy"
      },
      "outputs": [],
      "source": [
        "def remainder(n,m):\n",
        "  while True:\n",
        "    if n-m< 0:\n",
        "      return n\n",
        "    else:\n",
        "      n = n - m\n",
        "  remainder(10,4)"
      ]
    },
    {
      "cell_type": "code",
      "source": [
        "class Shapes:\n",
        "  def __init__(self,length,width):\n",
        "    self.length = length\n",
        "    self.width = width\n",
        "  def area(self):\n",
        "    return self. length * self.width\n",
        "rectangle = Shapes(10,5)\n",
        "rectangle.area()\n"
      ],
      "metadata": {
        "colab": {
          "base_uri": "https://localhost:8080/"
        },
        "id": "LtOG21sSL-D9",
        "outputId": "c11cbe3f-4493-4e8e-e2f5-4265c6315cec"
      },
      "execution_count": 12,
      "outputs": [
        {
          "output_type": "execute_result",
          "data": {
            "text/plain": [
              "50"
            ]
          },
          "metadata": {},
          "execution_count": 12
        }
      ]
    },
    {
      "cell_type": "code",
      "source": [
        "pow (10,2)\n",
        "array = [\"apple\",\"banana\",\"orange\"]\n",
        "array.insert(0,\"cherry\")\n",
        "print(array)"
      ],
      "metadata": {
        "colab": {
          "base_uri": "https://localhost:8080/"
        },
        "id": "Y-U9FNa4OAC9",
        "outputId": "cfbd17ba-c86f-4e98-9174-1ba24b308508"
      },
      "execution_count": 14,
      "outputs": [
        {
          "output_type": "stream",
          "name": "stdout",
          "text": [
            "['cherry', 'apple', 'banana', 'orange']\n"
          ]
        }
      ]
    },
    {
      "cell_type": "code",
      "source": [
        "class Shapes:\n",
        "  def __init__(self,side):\n",
        "    self.side = side\n",
        "  def arearec(self):\n",
        "    return self. length * self.width\n",
        "  def areasqr(self):\n",
        "    return self.side**2\n",
        "square =  Shapes(5)\n",
        "rectangle.area()\n",
        "square.areasqr()\n"
      ],
      "metadata": {
        "colab": {
          "base_uri": "https://localhost:8080/"
        },
        "id": "x0EpTKaLORY0",
        "outputId": "29ed7442-49a0-4778-ff37-218857e00e8e"
      },
      "execution_count": 17,
      "outputs": [
        {
          "output_type": "execute_result",
          "data": {
            "text/plain": [
              "25"
            ]
          },
          "metadata": {},
          "execution_count": 17
        }
      ]
    },
    {
      "cell_type": "code",
      "source": [
        "class Person:\n",
        "  def __init__(self,name,age):\n",
        "    self.name = name\n",
        "    self.age = age\n",
        "  def nameage(self):\n",
        "    return self.name + self.age\n",
        "nameage = Person (\"Neil Salino\",\" 18\")\n",
        "nameage.nameage()"
      ],
      "metadata": {
        "colab": {
          "base_uri": "https://localhost:8080/",
          "height": 35
        },
        "id": "ogfz0a4CPoqE",
        "outputId": "349014e9-61e1-4b49-a017-085f20acc7dd"
      },
      "execution_count": 27,
      "outputs": [
        {
          "output_type": "execute_result",
          "data": {
            "text/plain": [
              "'Neil Salino 18'"
            ],
            "application/vnd.google.colaboratory.intrinsic+json": {
              "type": "string"
            }
          },
          "metadata": {},
          "execution_count": 27
        }
      ]
    },
    {
      "cell_type": "markdown",
      "source": [
        "List"
      ],
      "metadata": {
        "id": "JCues88BYraJ"
      }
    },
    {
      "cell_type": "code",
      "source": [
        "pi = 3.14159\n",
        "varList = ['abc', 1,'def',2]\n",
        "print(varList[0])\n",
        "\n",
        "varList.append('ghi')\n",
        "print(varList)\n",
        "varList.remove(2)\n",
        "print(varList)\n",
        "varList.insert(3,3)\n",
        "print(varList)"
      ],
      "metadata": {
        "colab": {
          "base_uri": "https://localhost:8080/"
        },
        "id": "178zkxJuU9nL",
        "outputId": "af8d1476-64a7-44d9-a48d-18bcb2e74c45"
      },
      "execution_count": 30,
      "outputs": [
        {
          "output_type": "stream",
          "name": "stdout",
          "text": [
            "abc\n",
            "['abc', 1, 'def', 2, 'ghi']\n",
            "['abc', 1, 'def', 'ghi']\n",
            "['abc', 1, 'def', 3, 'ghi']\n"
          ]
        }
      ]
    },
    {
      "cell_type": "markdown",
      "source": [
        "Dictionaries"
      ],
      "metadata": {
        "id": "WsqDwRG9Yly5"
      }
    },
    {
      "cell_type": "code",
      "source": [
        "students = {\n",
        "    1 : \"anna\",\n",
        "    2 : \"billy\",\n",
        "    3 : \"maria\",\n",
        "    4 : \"joy\"\n",
        "}\n",
        "print(students)"
      ],
      "metadata": {
        "colab": {
          "base_uri": "https://localhost:8080/"
        },
        "id": "YHmMQ5EqYfCx",
        "outputId": "06eeeed7-9cc5-48d9-d7fe-757f7bf951fe"
      },
      "execution_count": 31,
      "outputs": [
        {
          "output_type": "stream",
          "name": "stdout",
          "text": [
            "{1: 'anna', 2: 'billy', 3: 'maria', 4: 'joy'}\n"
          ]
        }
      ]
    },
    {
      "cell_type": "code",
      "source": [],
      "metadata": {
        "id": "LDVFO5oWYe9p"
      },
      "execution_count": null,
      "outputs": []
    }
  ]
}